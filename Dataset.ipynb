{
 "cells": [
  {
   "cell_type": "code",
   "execution_count": null,
   "metadata": {},
   "outputs": [],
   "source": [
    "import pandas as pd\n",
    "import numpy as np\n",
    "import matplotlib.pyplot as plt\n",
    "\n",
    "# Specifica il percorso del tuo file CSV\n",
    "percorso_file_csv = \"C:\\\\Users\\\\david\\\\Downloads\\\\pokemons.csv\"\n",
    "\n",
    "# Leggi il file CSV in un DataFrame\n",
    "df = pd.read_csv(percorso_file_csv)\n",
    "\n",
    "# Mostra le prime righe del DataFrame (opzionale)\n",
    "print(df.head())\n",
    "df.shape"
   ]
  },
  {
   "cell_type": "code",
   "execution_count": null,
   "metadata": {},
   "outputs": [],
   "source": []
  }
 ],
 "metadata": {
  "language_info": {
   "name": "python"
  }
 },
 "nbformat": 4,
 "nbformat_minor": 2
}
