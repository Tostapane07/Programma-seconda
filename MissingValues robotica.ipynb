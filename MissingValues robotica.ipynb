{
 "cells": [
  {
   "cell_type": "markdown",
   "metadata": {},
   "source": [
    "# Import dati"
   ]
  },
  {
   "cell_type": "code",
   "execution_count": 1,
   "metadata": {},
   "outputs": [
    {
     "name": "stdout",
     "output_type": "stream",
     "text": [
      "        CatCol1 CatCol2   NumCol1  NumCol2   NumCol3\n",
      "0             A       Y -0.391604     98.0  0.409815\n",
      "1             A       X  0.000551     19.0  0.886592\n",
      "2             C       Y  1.266001     52.0  0.848556\n",
      "3             A       X  0.449617     70.0  0.546525\n",
      "4             B       X  0.742505     72.0  0.467257\n",
      "...         ...     ...       ...      ...       ...\n",
      "9999995       A       Y  0.464663      7.0  0.992815\n",
      "9999996       A       X  0.149775     13.0  0.731368\n",
      "9999997       C       Y -0.608376      1.0  0.606349\n",
      "9999998       C       Y  0.000101     69.0  0.115812\n",
      "9999999       B       Y  1.666715     76.0  0.245699\n",
      "\n",
      "[9635330 rows x 5 columns]\n"
     ]
    }
   ],
   "source": [
    "import pandas as pd\n",
    "import numpy as np\n",
    "\n",
    "# Impostare il seed per rendere i risultati riproducibili\n",
    "np.random.seed(41)\n",
    "\n",
    "# Creare un dataframe vuoto\n",
    "df = pd.DataFrame()\n",
    "\n",
    "# Generare dati casuali\n",
    "n_rows = 10000000\n",
    "df['CatCol1'] = np.random.choice(['A', 'B', 'C'], size=n_rows)\n",
    "df['CatCol2'] = np.random.choice(['X', 'Y'], size=n_rows)\n",
    "df['NumCol1'] = np.random.randn(n_rows)\n",
    "df['NumCol2'] = np.random.randint(1, 100, size=n_rows)\n",
    "df['NumCol3'] = np.random.uniform(0, 1, size=n_rows)\n",
    "\n",
    "# Calcolare il numero totale di missing values desiderati\n",
    "total_missing_values = int(0.05 * n_rows * len(df.columns))\n",
    "\n",
    "# Introdurre missing values casuali\n",
    "for column in df.columns:\n",
    "    num_missing_values = np.random.randint(0, total_missing_values + 1)\n",
    "    missing_indices = np.random.choice(n_rows, size=num_missing_values, replace=False)\n",
    "    df.loc[missing_indices, column] = np.nan\n",
    "\n",
    "# Elimina le righe in cui entrambe le features categoriche hanno valori NaN\n",
    "df = df.dropna(subset=[\"CatCol1\", 'CatCol2'], how='all')\n",
    "df = df.dropna(subset=[\"NumCol1\", 'NumCol2','NumCol3'], how='all')\n",
    "\n",
    "\n",
    "numeric_cols = df.select_dtypes(include=['number'])\n",
    "categorical_cols = df.select_dtypes(exclude=['number'])\n",
    "\n",
    "# Sostituisci i missing values nelle colonne categoriche con la moda utilizzando .loc\n",
    "df.loc[:, categorical_cols.columns] = df[categorical_cols.columns].fillna(df[categorical_cols.columns].mode().iloc[0])\n",
    "\n",
    "# Calcola la media condizionata solo per le colonne numeriche con dati mancanti\n",
    "conditional_means = df[numeric_cols.columns].fillna(df.groupby('CatCol1')[numeric_cols.columns].transform('mean'))\n",
    "\n",
    "# Aggiorna le colonne numeriche con la media condizionata utilizzando .loc\n",
    "df.loc[:, numeric_cols.columns] = conditional_means\n",
    "\n",
    "# Stampa il DataFrame risultante\n",
    "print(df)"
   ]
  },
  {
   "cell_type": "code",
   "execution_count": 17,
   "metadata": {},
   "outputs": [
    {
     "name": "stdout",
     "output_type": "stream",
     "text": [
      "   id        name      rank    generation evolves_from  type1   type2  hp  \\\n",
      "0   1   bulbasaur  ordinary  generation-i      nothing  grass  poison  45   \n",
      "1   2     ivysaur  ordinary  generation-i    bulbasaur  grass  poison  60   \n",
      "2   3    venusaur  ordinary  generation-i      ivysaur  grass  poison  80   \n",
      "3   4  charmander  ordinary  generation-i      nothing   fire    None  39   \n",
      "4   5  charmeleon  ordinary  generation-i   charmander   fire    None  58   \n",
      "\n",
      "   atk  def  spatk  spdef  speed  total  height  weight  \\\n",
      "0   49   49     65     65     45    318       7      69   \n",
      "1   62   63     80     80     60    405      10     130   \n",
      "2   82   83    100    100     80    525      20    1000   \n",
      "3   52   43     60     50     65    309       6      85   \n",
      "4   64   58     80     65     80    405      11     190   \n",
      "\n",
      "               abilities                                               desc  \n",
      "0  overgrow chlorophyll   A strange seed was planted on its back at birt...  \n",
      "1  overgrow chlorophyll   When the bulb on its back grows large, it appe...  \n",
      "2  overgrow chlorophyll   The plant blooms when it is absorbing solar en...  \n",
      "3     blaze solar-power   Obviously prefers hot places. When it rains, s...  \n",
      "4     blaze solar-power   When it swings its burning tail, it elevates t...  \n"
     ]
    }
   ],
   "source": [
    "import pandas as pd\n",
    "import numpy as np\n",
    "import matplotlib.pyplot as plt\n",
    "\n",
    "# Specifica il percorso del tuo file CSV\n",
    "percorso_file_csv = \"C:\\\\Users\\\\david\\\\Downloads\\\\pokemons.csv\"\n",
    "\n",
    "# Leggi il file CSV in un DataFrame\n",
    "df = pd.read_csv(percorso_file_csv)\n",
    "\n",
    "# Mostra le prime righe del DataFrame (opzionale)\n",
    "print(df.head())"
   ]
  },
  {
   "cell_type": "markdown",
   "metadata": {},
   "source": [
    "# Missing values"
   ]
  },
  {
   "cell_type": "code",
   "execution_count": 9,
   "metadata": {},
   "outputs": [
    {
     "name": "stdout",
     "output_type": "stream",
     "text": [
      "il primo con i valori mancanti \n",
      "   Variable1  Variable2 Missing_Column\n",
      "0          1        1.0              A\n",
      "1          2        2.0              B\n",
      "2          3        NaN              A\n",
      "3          4        4.0              C\n",
      "4          5        NaN            NaN \n",
      "e il secondo con i missing values sostituiti \n",
      "   Variable1  Variable2 Missing_Column\n",
      "0          1   1.000000              A\n",
      "1          2   2.000000              B\n",
      "2          3   2.333333              A\n",
      "3          4   4.000000              C\n",
      "4          5   2.333333              A\n"
     ]
    }
   ],
   "source": [
    "#creo una funzione che si occupa solo dei missing values \n",
    "import pandas as pd\n",
    "import seaborn as sns\n",
    "import numpy as np\n",
    "import matplotlib.pyplot as plt\n",
    "\n",
    "# Genera dati di esempio\n",
    "data = {\n",
    "    'Variable1': [1, 2, 3, 4, 5],\n",
    "    'Variable2': [1, 2, np.nan, 4, np.nan],\n",
    "    'Missing_Column': ['A', 'B', 'A', 'C', np.nan]\n",
    "}\n",
    "\n",
    "# Crea un DataFrame\n",
    "df = pd.DataFrame(data)\n",
    "df1=pd.DataFrame()\n",
    "\n",
    "\n",
    "def missingvalues_sub(df):\n",
    "    # Trattamento dei missing values nelle variabili numeriche e categoriche\n",
    "    numeric_cols = df.select_dtypes(include=['number'])\n",
    "    categorical_cols = df.select_dtypes(exclude=['number'])\n",
    "    df1[numeric_cols.columns] = df[numeric_cols.columns].fillna(df[numeric_cols.columns].mean())    \n",
    "    df1[categorical_cols.columns] = df[categorical_cols.columns].fillna(df[categorical_cols.columns].mode().iloc[0])\n",
    "    return df1\n",
    "\n",
    "\n",
    "def main ():\n",
    "    df1=missingvalues_sub(df)\n",
    "    print(f\"il primo con i valori mancanti \\n{df} \\ne il secondo con i missing values sostituiti \\n{df1}\")\n",
    "\n",
    "\n",
    "if __name__ == \"__main__\":\n",
    "    main()"
   ]
  },
  {
   "cell_type": "code",
   "execution_count": 3,
   "metadata": {},
   "outputs": [],
   "source": [
    "import pandas as pd\n",
    "import seaborn as sns\n",
    "import matplotlib.pyplot as plt\n",
    "import numpy as np\n",
    "\n",
    "# Genera dati di esempio\n",
    "data = {\n",
    "    'Feature1': [1, 2, np.nan, 4, 5],\n",
    "    'Feature2': [np.nan, 2, 3, 4, np.nan],\n",
    "    'Feature3': [1, np.nan, 3, 4, 5]\n",
    "}\n",
    "\n",
    "# Crea un DataFrame\n",
    "df = pd.DataFrame(data)"
   ]
  },
  {
   "cell_type": "code",
   "execution_count": 4,
   "metadata": {},
   "outputs": [],
   "source": [
    "import pandas as pd\n",
    "import numpy as np\n",
    "import matplotlib.pyplot as plt\n",
    "import seaborn as sns\n",
    "import plotly.express as px\n",
    "\n",
    "# Genera dati casuali per l'esplorazione\n",
    "np.random.seed(42)\n",
    "data = {\n",
    "    'Età': np.random.randint(18, 70, size=1000),\n",
    "    'Genere': np.random.choice(['Maschio', 'Femmina'], size=1000),\n",
    "    'Punteggio': np.random.uniform(0, 100, size=1000),\n",
    "    'Reddito': np.random.normal(50000, 15000, size=1000)\n",
    "}"
   ]
  }
 ],
 "metadata": {
  "kernelspec": {
   "display_name": "base",
   "language": "python",
   "name": "python3"
  },
  "language_info": {
   "codemirror_mode": {
    "name": "ipython",
    "version": 3
   },
   "file_extension": ".py",
   "mimetype": "text/x-python",
   "name": "python",
   "nbconvert_exporter": "python",
   "pygments_lexer": "ipython3",
   "version": "3.11.4"
  }
 },
 "nbformat": 4,
 "nbformat_minor": 2
}
