{
 "cells": [
  {
   "cell_type": "markdown",
   "id": "45a6a18c",
   "metadata": {},
   "source": [
    "Verde= funzioni\n",
    "Rosso= testo tra \"\"\n",
    "Blu= testo"
   ]
  },
  {
   "cell_type": "markdown",
   "id": "b077c1d5",
   "metadata": {},
   "source": [
    "# Il Primo Programma\n",
    "## Sottotitolo\n",
    "### Sottotitolo"
   ]
  },
  {
   "cell_type": "code",
   "execution_count": 1,
   "id": "a51faa80",
   "metadata": {
    "scrolled": true
   },
   "outputs": [
    {
     "name": "stdout",
     "output_type": "stream",
     "text": [
      "Hello world!\n"
     ]
    }
   ],
   "source": [
    "print(\"Hello world!\")"
   ]
  },
  {
   "cell_type": "markdown",
   "id": "8ed58384",
   "metadata": {},
   "source": [
    "# Variabili e Input utente"
   ]
  },
  {
   "cell_type": "code",
   "execution_count": 9,
   "id": "38924e49",
   "metadata": {
    "scrolled": true
   },
   "outputs": [
    {
     "name": "stdout",
     "output_type": "stream",
     "text": [
      "inserisci il tuo nome: Davide\n",
      "Ciao, Davide !\n"
     ]
    }
   ],
   "source": [
    "nome=input(\"inserisci il tuo nome: \")\n",
    "print(\"Ciao,\", nome,\"!\")"
   ]
  },
  {
   "cell_type": "code",
   "execution_count": 10,
   "id": "1298efe3",
   "metadata": {},
   "outputs": [
    {
     "name": "stdout",
     "output_type": "stream",
     "text": [
      "Davide\n"
     ]
    }
   ],
   "source": [
    "nome=\"Davide\"\n",
    "print(nome)"
   ]
  },
  {
   "cell_type": "code",
   "execution_count": 15,
   "id": "9ee3efdd",
   "metadata": {},
   "outputs": [
    {
     "name": "stdout",
     "output_type": "stream",
     "text": [
      "35\n",
      "4.0\n",
      "10\n",
      "12\n"
     ]
    }
   ],
   "source": [
    "print(5*7)\n",
    "print(20/5)\n",
    "print(3+7)\n",
    "print(15-3)"
   ]
  },
  {
   "cell_type": "code",
   "execution_count": 19,
   "id": "08a90815",
   "metadata": {},
   "outputs": [
    {
     "name": "stdout",
     "output_type": "stream",
     "text": [
      "Inserisci la tua via: Paolo\n",
      "Hai inserito Paolo\n"
     ]
    }
   ],
   "source": [
    "via=input(\"Inserisci la tua via: \")\n",
    "print(\"Hai inserito\", via)"
   ]
  },
  {
   "cell_type": "code",
   "execution_count": 20,
   "id": "a82ff6db",
   "metadata": {},
   "outputs": [
    {
     "name": "stdout",
     "output_type": "stream",
     "text": [
      "inserisci il tuo nome: Davide\n",
      "Ciao, Davide !\n",
      "Ciao, Davide !\n",
      "Ciao, Davide !\n",
      "Ciao, Davide !\n",
      "Ciao, Davide !\n",
      "Ciao, Davide !\n",
      "Ciao, Davide !\n",
      "Ciao, Davide !\n",
      "Ciao, Davide !\n",
      "Ciao, Davide !\n"
     ]
    }
   ],
   "source": [
    "nome=input(\"inserisci il tuo nome: \")\n",
    "for i in range(10):\n",
    "    print(\"Ciao,\", nome, \"!\") #Python ripete solo la parte di codice identata, cioè staccata dal margine"
   ]
  },
  {
   "cell_type": "markdown",
   "id": "76d47cd0",
   "metadata": {},
   "source": [
    "# Calcolatrice Python"
   ]
  },
  {
   "cell_type": "markdown",
   "id": "cb1381c8",
   "metadata": {},
   "source": [
    "## Addizione"
   ]
  },
  {
   "cell_type": "code",
   "execution_count": 25,
   "id": "a5e1b10a",
   "metadata": {},
   "outputs": [
    {
     "name": "stdout",
     "output_type": "stream",
     "text": [
      "Inserisci il primo numero: 4\n",
      "Inserisci il secondo numero: 7\n",
      "La somma è 11\n"
     ]
    }
   ],
   "source": [
    "numero1=int(input(\"Inserisci il primo numero: \")) #int sta per numero intero, quindi senza virgole\n",
    "numero2=int(input(\"Inserisci il secondo numero: \"))\n",
    "somma=numero1+numero2\n",
    "print(\"La somma è\", somma)"
   ]
  },
  {
   "cell_type": "markdown",
   "id": "ea71d7d7",
   "metadata": {},
   "source": [
    "## Sottrazione"
   ]
  },
  {
   "cell_type": "code",
   "execution_count": 28,
   "id": "80dc64fd",
   "metadata": {},
   "outputs": [
    {
     "name": "stdout",
     "output_type": "stream",
     "text": [
      "Inserisci il primo numero: 50\n",
      "Inserisci il secondo numero: 40\n",
      "La sottrazione è 10\n"
     ]
    }
   ],
   "source": [
    "numero1=int(input(\"Inserisci il primo numero: \"))\n",
    "numero2=int(input(\"Inserisci il secondo numero: \"))\n",
    "sottrazione=numero1-numero2\n",
    "print(\"La sottrazione è\", int(sottrazione))"
   ]
  },
  {
   "cell_type": "markdown",
   "id": "7dc2f00f",
   "metadata": {},
   "source": [
    "## Moltiplicazione"
   ]
  },
  {
   "cell_type": "code",
   "execution_count": 29,
   "id": "db8d9f0e",
   "metadata": {},
   "outputs": [
    {
     "name": "stdout",
     "output_type": "stream",
     "text": [
      "Inserisci il primo numero: 3\n",
      "Inserisci il secondo numero: 5\n",
      "La moltiplicazione è 15\n"
     ]
    }
   ],
   "source": [
    "numero1=int(input(\"Inserisci il primo numero: \"))\n",
    "numero2=int(input(\"Inserisci il secondo numero: \"))\n",
    "moltiplicazione=numero1*numero2\n",
    "print(\"La moltiplicazione è\", moltiplicazione)"
   ]
  },
  {
   "cell_type": "markdown",
   "id": "284b4337",
   "metadata": {},
   "source": [
    "## Divisione"
   ]
  },
  {
   "cell_type": "code",
   "execution_count": 32,
   "id": "34eb4e77",
   "metadata": {},
   "outputs": [
    {
     "name": "stdout",
     "output_type": "stream",
     "text": [
      "Inserisci il primo numero: 50\n",
      "Inserisci il secondo numero: 5\n",
      "La divisione è 10\n"
     ]
    }
   ],
   "source": [
    "numero1=int(input(\"Inserisci il primo numero: \"))\n",
    "numero2=int(input(\"Inserisci il secondo numero: \"))\n",
    "divisione=numero1/numero2\n",
    "print(\"La divisione è\", int(divisione)) #In questo caso ho usato int perché per la divisione mi usciva un numero con n,0"
   ]
  },
  {
   "cell_type": "markdown",
   "id": "6368f16a",
   "metadata": {},
   "source": [
    "# Loop e Ripetizione"
   ]
  },
  {
   "cell_type": "code",
   "execution_count": 3,
   "id": "1aaaa42c",
   "metadata": {},
   "outputs": [
    {
     "name": "stdout",
     "output_type": "stream",
     "text": [
      "0\n",
      "1\n",
      "2\n",
      "3\n",
      "4\n",
      "5\n",
      "6\n",
      "7\n",
      "8\n",
      "9\n",
      "10\n"
     ]
    }
   ],
   "source": [
    "for numero in range(11):\n",
    "    print(numero)"
   ]
  },
  {
   "cell_type": "code",
   "execution_count": 7,
   "id": "f36b2c77",
   "metadata": {},
   "outputs": [
    {
     "name": "stdout",
     "output_type": "stream",
     "text": [
      "6\n",
      "7\n",
      "8\n",
      "9\n",
      "10\n",
      "11\n",
      "12\n"
     ]
    }
   ],
   "source": [
    "for numero in range(6,13):\n",
    "    print(numero)"
   ]
  },
  {
   "cell_type": "markdown",
   "id": "97ca52a5",
   "metadata": {},
   "source": [
    "# Condizioni e Decisioni"
   ]
  },
  {
   "cell_type": "code",
   "execution_count": 2,
   "id": "dae2f4a8",
   "metadata": {},
   "outputs": [
    {
     "name": "stdout",
     "output_type": "stream",
     "text": [
      "Inserisci l'operazione (+, -, *, /): +\n",
      "Inserisci il primo numero: 2\n",
      "Inserisci il secondo numero: 3\n",
      "Il risultato è:  5.0\n"
     ]
    }
   ],
   "source": [
    "#Calcolatriice Python con decisioni\n",
    "\n",
    "operazione=input(\"Inserisci l'operazione (+, -, *, /): \")\n",
    "\n",
    "numero1=float(input(\"Inserisci il primo numero: \"))\n",
    "numero2=float(input(\"Inserisci il secondo numero: \"))\n",
    "\n",
    "if operazione == \"+\":\n",
    "    risultato = numero1+numero2\n",
    "    \n",
    "elif operazione == \"-\":\n",
    "    risultato = numero1-numero2\n",
    "    \n",
    "elif operazione == \"*\":\n",
    "    risultato = numero1*numero2\n",
    "    \n",
    "elif operazione == \"/\":\n",
    "    risultato = numero1/numero2\n",
    "    \n",
    "else:\n",
    "    risultato = \"Operazione non valida\"\n",
    "print(\"Il risultato è: \", risultato)\n"
   ]
  },
  {
   "cell_type": "markdown",
   "id": "4df5db97",
   "metadata": {},
   "source": [
    "# Calcolare in somma"
   ]
  },
  {
   "cell_type": "code",
   "execution_count": 1,
   "id": "786cafdd",
   "metadata": {},
   "outputs": [
    {
     "name": "stdout",
     "output_type": "stream",
     "text": [
      "Inserisci un numero intero positivo: 2\n",
      "La somma dei primi 2 numeri interi è: 3\n"
     ]
    }
   ],
   "source": [
    "n = int(input(\"Inserisci un numero intero positivo: \"))\n",
    "somma = 0\n",
    "\n",
    "for numero in range(1, n+1):\n",
    "    somma += numero\n",
    "print(\"La somma dei primi\", n, \"numeri interi è:\", somma)"
   ]
  },
  {
   "cell_type": "markdown",
   "id": "cb6c01cb",
   "metadata": {},
   "source": [
    "# Calcolare il quadrato dei primi numeri"
   ]
  },
  {
   "cell_type": "code",
   "execution_count": 8,
   "id": "33c1b3d0",
   "metadata": {},
   "outputs": [
    {
     "name": "stdout",
     "output_type": "stream",
     "text": [
      "Inserisci un numero intero positivo: 3\n",
      "Quadrati dei primi 3 numeri\n",
      "Il quadrato di 1 è 1\n",
      "Il quadrato di 2 è 4\n",
      "Il quadrato di 3 è 9\n"
     ]
    }
   ],
   "source": [
    "n=int(input(\"Inserisci un numero intero positivo: \"))\n",
    "print(\"Quadrati dei primi\", n, \"numeri\")\n",
    "\n",
    "for numero in range(1, n+1): #Se tolgo \"1,\" partirà dal quadrato di 0\n",
    "    quadrato=numero**2\n",
    "    print(\"Il quadrato di\", numero, \"è\", quadrato) #Se lo indento stampa solo il quadrato del numero che inseriamo\n"
   ]
  },
  {
   "cell_type": "markdown",
   "id": "043e5045",
   "metadata": {},
   "source": [
    "# Verificare la parità"
   ]
  },
  {
   "cell_type": "code",
   "execution_count": 12,
   "id": "a03d6c1a",
   "metadata": {},
   "outputs": [
    {
     "name": "stdout",
     "output_type": "stream",
     "text": [
      "Inserisci un numero: 7\n",
      "7 è dispari\n"
     ]
    }
   ],
   "source": [
    "numero=int(input(\"Inserisci un numero: \"))\n",
    "if numero%2==0: # % (divisibile per 2) == (con resto 0)\n",
    "    print(numero, \"è un numero pari\")\n",
    "else:\n",
    "    print(numero, \"è dispari\")"
   ]
  },
  {
   "cell_type": "code",
   "execution_count": 14,
   "id": "e9dd5bb2",
   "metadata": {},
   "outputs": [
    {
     "name": "stdout",
     "output_type": "stream",
     "text": [
      "Inserisci un numero: 16\n",
      "16 è dispari\n"
     ]
    }
   ],
   "source": [
    "numero=int(input(\"Inserisci un numero: \"))\n",
    "if numero%10==5:\n",
    "    print(numero, \"è un numero pari\") #\n",
    "else:\n",
    "    print(numero, \"è dispari\")"
   ]
  },
  {
   "cell_type": "markdown",
   "id": "2997956d",
   "metadata": {},
   "source": [
    "# Calcolare il fattoriale"
   ]
  },
  {
   "cell_type": "code",
   "execution_count": 18,
   "id": "7c9d71da",
   "metadata": {},
   "outputs": [
    {
     "name": "stdout",
     "output_type": "stream",
     "text": [
      "Inserisci un numero intero positivo: 10\n",
      "Il fattoriale di 10 è 3628800\n"
     ]
    }
   ],
   "source": [
    "n=int(input(\"Inserisci un numero intero positivo: \"))\n",
    "fattoriale=1\n",
    "\n",
    "for numero in range (1, n+1):\n",
    "    fattoriale*=numero\n",
    "    \n",
    "print(\"Il fattoriale di\", n, \"è\", fattoriale)"
   ]
  },
  {
   "cell_type": "markdown",
   "id": "34d97fcb",
   "metadata": {},
   "source": [
    "# Calcolare la media di una lista di numeri"
   ]
  },
  {
   "cell_type": "code",
   "execution_count": 1,
   "id": "ba604a5a",
   "metadata": {},
   "outputs": [
    {
     "name": "stdout",
     "output_type": "stream",
     "text": [
      "Quanti numeri vuoi inserire? 5\n",
      "Inserisci un numero: 2\n",
      "Inserisci un numero: 7\n",
      "Inserisci un numero: 6\n",
      "Inserisci un numero: 4\n",
      "Inserisci un numero: 5\n",
      "La media dei numeri inseriti è: 4.8 la lista completa è: [2.0, 7.0, 6.0, 4.0, 5.0]\n"
     ]
    }
   ],
   "source": [
    "numeri=[]\n",
    "n=int(input(\"Quanti numeri vuoi inserire? \"))\n",
    "for i in range(n):\n",
    "    numero=float(input(\"Inserisci un numero: \")) #Float sta per \"numeri con la virgola\"\n",
    "    numeri.append(numero) #Il comando append aggiunge un numero all'insieme \"numeri\"\n",
    "media=sum(numeri)/len(numeri) #Len sta per lunghezza, quindi il numero degli elementi\n",
    "print(\"La media dei numeri inseriti è:\", media, \"la lista completa è:\", numeri)"
   ]
  },
  {
   "cell_type": "markdown",
   "id": "56103cd5",
   "metadata": {},
   "source": [
    "# Gioco dell'indovinello"
   ]
  },
  {
   "cell_type": "code",
   "execution_count": 3,
   "id": "b8880679",
   "metadata": {},
   "outputs": [
    {
     "name": "stdout",
     "output_type": "stream",
     "text": [
      "Indovina il numero 1-100: 40\n",
      "Il numero è più alto\n",
      "Indovina il numero 1-100: 60\n",
      "Il numero è più piccolo\n",
      "Indovina il numero 1-100: 54\n",
      "Il numero è più piccolo\n",
      "Indovina il numero 1-100: 48\n",
      "Bravo! Hai indovinato il numero 48 in 4 tentativi\n"
     ]
    }
   ],
   "source": [
    "import random #Import serve per prendere le librerie di Python\n",
    "numero_da_indovinare=random.randint(1, 100)\n",
    "tentativi=0\n",
    "while True:\n",
    "    tentativo=int(input(\"Indovina il numero 1-100: \"))\n",
    "    tentativi+=1\n",
    "    \n",
    "    if tentativo==numero_da_indovinare:\n",
    "        print(\"Bravo! Hai indovinato il numero\", numero_da_indovinare, \"in\", tentativi, \"tentativi\")\n",
    "        break #Interrompe il ciclo while\n",
    "    elif tentativo < numero_da_indovinare:\n",
    "        print(\"Il numero è più alto\")\n",
    "    else:\n",
    "        print(\"Il numero è più piccolo\")"
   ]
  },
  {
   "cell_type": "markdown",
   "id": "8839baba",
   "metadata": {},
   "source": [
    "# Carta forbice sasso"
   ]
  },
  {
   "cell_type": "code",
   "execution_count": 7,
   "id": "0a45b6d2",
   "metadata": {},
   "outputs": [
    {
     "name": "stdout",
     "output_type": "stream",
     "text": [
      "Benvenuti al gioco della Morra cinese\n",
      "Scegli la tua mossa (carta, forbice, sasso): carta\n",
      "Il computer ha scelto: forbice\n",
      "Hai perso\n"
     ]
    }
   ],
   "source": [
    "import random\n",
    "mosse=(\"carta\", \"forbice\", \"sasso\")\n",
    "computer_mossa=random.choice(mosse) #Random.choise= sceglie un elemento in questo caso dento la lista \"mosse\"\n",
    "\n",
    "print(\"Benvenuti al gioco della Morra cinese\")\n",
    "scelta_giocatore=input(\"Scegli la tua mossa (carta, forbice, sasso): \")\n",
    "\n",
    "if scelta_giocatore not in mosse:\n",
    "    print(\"Mossa non permessa\")\n",
    "else:\n",
    "    print(\"Il computer ha scelto:\", computer_mossa)\n",
    "    if scelta_giocatore==computer_mossa:\n",
    "        print(\"Pareggio\")\n",
    "    elif (scelta_giocatore==\"carta\" and computer_mossa==\"sasso\") or \\\n",
    "    (scelta_giocatore==\"forbice\" and computer_mossa==\"carta\") or \\\n",
    "    (scelta_giocatore==\"sasso\" and computer_mossa==\"forbice\"):\n",
    "        print(\"Hai vinto!\")\n",
    "    else:\n",
    "        print(\"Hai perso\")"
   ]
  }
 ],
 "metadata": {
  "kernelspec": {
   "display_name": "Python 3 (ipykernel)",
   "language": "python",
   "name": "python3"
  },
  "language_info": {
   "codemirror_mode": {
    "name": "ipython",
    "version": 3
   },
   "file_extension": ".py",
   "mimetype": "text/x-python",
   "name": "python",
   "nbconvert_exporter": "python",
   "pygments_lexer": "ipython3",
   "version": "3.11.4"
  }
 },
 "nbformat": 4,
 "nbformat_minor": 5
}
